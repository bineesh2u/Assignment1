{
 "cells": [
  {
   "cell_type": "markdown",
   "id": "cc3493d6-dfe4-43a6-a826-b7c817eb6026",
   "metadata": {},
   "source": [
    "# My Jupyter Notebook on IBM Watson Studio\n",
    "\n",
    "**Bineesh Kumar N**\n",
    "*I am interested in Data Science to explore the power of data to come up with different strategies based on the analysis performed on data.*\n",
    "\n",
    "### The following is a simple Python Program to print inverted star pattern ###\n",
    "\n",
    "\n",
    "# n is the number of rows in which star is going to be printed.\n",
    "\n",
    "n=6\n",
    "\n",
    "for i in range (n, 0, -1):\n",
    "    print((n-i) * ' ' + i * '*')"
   ]
  },
  {
   "cell_type": "code",
   "execution_count": 6,
   "id": "b0757570-5ac6-4af9-b30b-fd7f3b8fb439",
   "metadata": {},
   "outputs": [
    {
     "name": "stdout",
     "output_type": "stream",
     "text": [
      "******\n",
      " *****\n",
      "  ****\n",
      "   ***\n",
      "    **\n",
      "     *\n"
     ]
    }
   ],
   "source": [
    "# n is the number of rows in which star is going to be printed.\n",
    "\n",
    "n=6\n",
    "\n",
    "for i in range (n, 0, -1):\n",
    "    print((n-i) * ' ' + i * '*')"
   ]
  },
  {
   "cell_type": "markdown",
   "id": "612e4d3f-5199-4681-a630-c8367850f351",
   "metadata": {},
   "source": [
    "### Following details contains horizontal rule, bulleted list and a table ###\n"
   ]
  },
  {
   "cell_type": "markdown",
   "id": "88eef344-900e-48e6-b759-7f78a2667af9",
   "metadata": {},
   "source": [
    "<HR>\n",
    "\n",
    "[Open Google Search](https://www.google.com \"Google's Search Page\")\n",
    "    \n",
    "    \n",
    "| Name        | Age           | Gender  |\n",
    "| ------------- |:-------------:| -----:|\n",
    "| Ford      | 22| Male |\n",
    "| Don      | 32      |   Male |\n",
    "| Julie | 26      |    Female |\n",
    "    \n",
    "***Ok thats all***  \n",
    "\n",
    "~~Removing this line~~\n",
    "    \n",
    "    \n",
    "    "
   ]
  },
  {
   "cell_type": "code",
   "execution_count": null,
   "id": "48d32931-8133-4897-96ab-a96c2469e15e",
   "metadata": {},
   "outputs": [],
   "source": []
  },
  {
   "cell_type": "code",
   "execution_count": null,
   "id": "17799dea-1958-499d-9ee2-b3ddcb0498a3",
   "metadata": {},
   "outputs": [],
   "source": []
  }
 ],
 "metadata": {
  "kernelspec": {
   "display_name": "Python",
   "language": "python",
   "name": "conda-env-python-py"
  },
  "language_info": {
   "codemirror_mode": {
    "name": "ipython",
    "version": 3
   },
   "file_extension": ".py",
   "mimetype": "text/x-python",
   "name": "python",
   "nbconvert_exporter": "python",
   "pygments_lexer": "ipython3",
   "version": "3.7.12"
  }
 },
 "nbformat": 4,
 "nbformat_minor": 5
}
